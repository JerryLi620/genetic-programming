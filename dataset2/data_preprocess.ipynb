{
 "cells": [
  {
   "cell_type": "code",
   "execution_count": 1,
   "id": "a4c3687d-c42c-40d6-ac5b-ec477b3c14d5",
   "metadata": {},
   "outputs": [],
   "source": [
    "import pandas as pd\n",
    "\n",
    "# Read the dataset\n",
    "df = pd.read_csv('dataset2.csv')\n",
    "\n",
    "# Calculate IQR for the 'f' column\n",
    "Q1 = df['f'].quantile(0.25)\n",
    "Q3 = df['f'].quantile(0.75)\n",
    "IQR = Q3 - Q1\n",
    "\n",
    "# Define bounds for the outliers\n",
    "lower_bound = Q1 - 1.5 * IQR\n",
    "upper_bound = Q3 + 1.5 * IQR\n",
    "\n",
    "# Filter out the outliers\n",
    "filtered_df = df[(df['f'] >= lower_bound) & (df['f'] <= upper_bound)]\n",
    "\n",
    "# Save the filtered dataset\n",
    "filtered_df.to_csv('filtered_dataset.csv', index=False)"
   ]
  },
  {
   "cell_type": "code",
   "execution_count": 3,
   "id": "60fd9fa9-44a0-433e-a35a-0ad60a22fd5f",
   "metadata": {},
   "outputs": [],
   "source": [
    "import pandas as pd\n",
    "import numpy as np\n",
    "import matplotlib.pyplot as plt\n",
    "import seaborn as sns\n",
    "\n",
    "# Load the corrected dataset\n",
    "df = pd.read_csv(\"filtered_dataset.csv\")\n",
    "\n",
    "df['x1'] = np.log10(df['x1'])\n",
    "df['x2'] = np.log10(df['x2'])\n",
    "\n",
    "df.to_csv(\"new_dataset2.csv\", index=False)"
   ]
  },
  {
   "cell_type": "code",
   "execution_count": null,
   "id": "a48c9a1d-0199-4914-8aa5-469c61dd1632",
   "metadata": {},
   "outputs": [],
   "source": []
  }
 ],
 "metadata": {
  "kernelspec": {
   "display_name": "Python 3.8",
   "language": "python",
   "name": "python3"
  },
  "language_info": {
   "codemirror_mode": {
    "name": "ipython",
    "version": 3
   },
   "file_extension": ".py",
   "mimetype": "text/x-python",
   "name": "python",
   "nbconvert_exporter": "python",
   "pygments_lexer": "ipython3",
   "version": "3.8.12"
  }
 },
 "nbformat": 4,
 "nbformat_minor": 5
}
